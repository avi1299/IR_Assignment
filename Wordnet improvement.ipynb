{
 "cells": [
  {
   "cell_type": "markdown",
   "metadata": {},
   "source": [
    "## Wordnet\n",
    "#### Sources\n",
    "* [Blog](https://blog.xrds.acm.org/2017/07/power-wordnet-use-python/#:~:text=WordNet%20is%20a%20database%20of,and%20sat%20on%20the%20sofa.%E2%80%9D)\n",
    "* [Theory](https://wordnet.princeton.edu/)\n",
    "* [Medium article on query relaxation](https://queryunderstanding.com/query-relaxation-342bc37ad425)\n",
    "* [ Paper: Similarity Search Combining Query Relaxation and Diversification](https://arxiv.org/ftp/arxiv/papers/1611/1611.04689.pdf)\n",
    "* [Similarity application example](https://stackoverflow.com/questions/15730473/wordnet-find-synonyms)"
   ]
  },
  {
   "cell_type": "code",
   "execution_count": 115,
   "metadata": {},
   "outputs": [],
   "source": [
    "from nltk.corpus import wordnet as wn"
   ]
  },
  {
   "cell_type": "code",
   "execution_count": 81,
   "metadata": {},
   "outputs": [],
   "source": []
  },
  {
   "cell_type": "code",
   "execution_count": 4,
   "metadata": {},
   "outputs": [
    {
     "name": "stderr",
     "output_type": "stream",
     "text": [
      "[nltk_data] Downloading package wordnet to\n",
      "[nltk_data]     C:\\Users\\vc\\AppData\\Roaming\\nltk_data...\n",
      "[nltk_data]   Unzipping corpora\\wordnet.zip.\n"
     ]
    },
    {
     "data": {
      "text/plain": [
       "True"
      ]
     },
     "execution_count": 4,
     "metadata": {},
     "output_type": "execute_result"
    }
   ],
   "source": [
    "import nltk\n",
    "nltk.download('wordnet')"
   ]
  },
  {
   "cell_type": "code",
   "execution_count": 116,
   "metadata": {},
   "outputs": [],
   "source": [
    "A = wn.synsets('capture')"
   ]
  },
  {
   "cell_type": "code",
   "execution_count": 85,
   "metadata": {},
   "outputs": [
    {
     "data": {
      "text/plain": [
       "['acquiring', 'getting']"
      ]
     },
     "execution_count": 85,
     "metadata": {},
     "output_type": "execute_result"
    }
   ],
   "source": [
    "A[0].hypernyms()[0].lemma_names()"
   ]
  },
  {
   "cell_type": "code",
   "execution_count": 106,
   "metadata": {},
   "outputs": [
    {
     "data": {
      "text/plain": [
       "['fender', 'buffer', 'cowcatcher', 'pilot']"
      ]
     },
     "execution_count": 106,
     "metadata": {},
     "output_type": "execute_result"
    }
   ],
   "source": [
    "wn.synsets('fender')[1].lemma_names()"
   ]
  },
  {
   "cell_type": "code",
   "execution_count": 98,
   "metadata": {},
   "outputs": [],
   "source": [
    "def extract_hypernym(query_term):\n",
    "    hypernym_list = {}\n",
    "    contexts = {}\n",
    "    for i, element in enumerate(wn.synsets(query_term)):\n",
    "        temp = element.hypernyms()[0].lemma_names()\n",
    "        contexts[i] = temp \n",
    "    return contexts\n"
   ]
  },
  {
   "cell_type": "code",
   "execution_count": 99,
   "metadata": {},
   "outputs": [
    {
     "data": {
      "text/plain": [
       "{0: ['appeasement', 'calming'],\n",
       " 1: ['treaty', 'pact', 'accord'],\n",
       " 2: ['conflict', 'struggle', 'battle']}"
      ]
     },
     "execution_count": 99,
     "metadata": {},
     "output_type": "execute_result"
    }
   ],
   "source": [
    "extract_hypernym('pacification')"
   ]
  },
  {
   "cell_type": "code",
   "execution_count": 107,
   "metadata": {},
   "outputs": [],
   "source": [
    "def extract_synonyms(query_term):\n",
    "    temp = {}\n",
    "    contexts = {}\n",
    "    for i, element in enumerate(wn.synsets(query_term)):\n",
    "        temp = element.lemma_names()\n",
    "        contexts[i] = temp\n",
    "    return contexts"
   ]
  },
  {
   "cell_type": "code",
   "execution_count": 114,
   "metadata": {},
   "outputs": [
    {
     "data": {
      "text/plain": [
       "{0: ['blare', 'blaring', 'cacophony', 'clamor', 'din'], 1: ['cacophony']}"
      ]
     },
     "execution_count": 114,
     "metadata": {},
     "output_type": "execute_result"
    }
   ],
   "source": [
    "extract_synonyms(\"cacophony\")"
   ]
  },
  {
   "cell_type": "code",
   "execution_count": null,
   "metadata": {},
   "outputs": [],
   "source": []
  }
 ],
 "metadata": {
  "kernelspec": {
   "display_name": "Python 3",
   "language": "python",
   "name": "python3"
  },
  "language_info": {
   "codemirror_mode": {
    "name": "ipython",
    "version": 3
   },
   "file_extension": ".py",
   "mimetype": "text/x-python",
   "name": "python",
   "nbconvert_exporter": "python",
   "pygments_lexer": "ipython3",
   "version": "3.7.7"
  }
 },
 "nbformat": 4,
 "nbformat_minor": 4
}
