{
 "metadata": {
  "language_info": {
   "codemirror_mode": {
    "name": "ipython",
    "version": 3
   },
   "file_extension": ".py",
   "mimetype": "text/x-python",
   "name": "python",
   "nbconvert_exporter": "python",
   "pygments_lexer": "ipython3",
   "version": "3.8.5-final"
  },
  "orig_nbformat": 2,
  "kernelspec": {
   "name": "python3",
   "display_name": "Python 3.8.5 64-bit ('venv')",
   "metadata": {
    "interpreter": {
     "hash": "f22dba344221ac07cd70860863354c1185255ecb1d98f9ff8d230ee6b60a136f"
    }
   }
  }
 },
 "nbformat": 4,
 "nbformat_minor": 2,
 "cells": [
  {
   "source": [
    "# Presentation - Group 1\n",
    "\n",
    "Members:<br>\n",
    "AVINASH MANOJ SONTAKKE  - 2017B5A70667P<br>\n",
    "MANAN PANERI            &nbsp;&nbsp;&nbsp;&nbsp;&nbsp;&nbsp;&nbsp;&nbsp&nbsp;&nbsp;- 2017B5A10768P<br>\n",
    "TULIKA GANGULY          &nbsp;&nbsp;&nbsp;&nbsp&nbsp;&nbsp;&nbsp;&nbsp- 2017B5A70606P<br>\n",
    "SRIJEN GUPTA            &nbsp;&nbsp;&nbsp;&nbsp&nbsp;&nbsp;&nbsp;&nbsp;&nbsp;&nbsp;- 2018ABPS0755P<br>\n",
    "SRUJANA N               &nbsp;&nbsp;&nbsp;&nbsp&nbsp;&nbsp;&nbsp;&nbsp;&nbsp;&nbsp;&nbsp;&nbsp;&nbsp;- 2017A7PS0013P<br>\n"
   ],
   "cell_type": "markdown",
   "metadata": {}
  },
  {
   "source": [
    "# Roles\n",
    "Index Creation Code- Avinash<br>\n",
    "Query Tester Code - Manan and Tulika<br>\n",
    "WordNet Improvization - Manan<br>\n",
    "Zone Improvization - Avinash and Srijen<br>\n",
    "Optimal Weighing of Optimizations - Tulika<br>\n",
    "Finding Queries - Srijen<br>\n",
    "Report - Tulika and Srujana<br>\n",
    "Improvization Ideas - Everyone<br>"
   ],
   "cell_type": "markdown",
   "metadata": {}
  },
  {
   "source": [
    "# Demo Code\n",
    "## Importing Libraries"
   ],
   "cell_type": "markdown",
   "metadata": {}
  },
  {
   "cell_type": "code",
   "execution_count": null,
   "metadata": {},
   "outputs": [],
   "source": [
    "#Importing Libraries and functions\n",
    "import string\n",
    "import re\n",
    "from nltk.tokenize import word_tokenize\n",
    "import numpy as np\n",
    "import pandas as pd\n",
    "import operator\n",
    "import itertools\n",
    "import webbrowser\n",
    "from WordNetImprovement import WordNetImprovement\n",
    "from collections import Counter\n",
    "\n",
    "from test_queries import test_queries\n",
    "from query_finder import queries_finder_func as accumulator\n",
    "from index_creation import corpus_parser"
   ]
  },
  {
   "source": [
    "## Index Creation"
   ],
   "cell_type": "markdown",
   "metadata": {}
  },
  {
   "cell_type": "code",
   "execution_count": null,
   "metadata": {},
   "outputs": [],
   "source": [
    "#Run if you want to parse corpus\n",
    "location = './Text_corpus/wiki_00'\n",
    "corpus_parser(location)"
   ]
  },
  {
   "source": [
    "## Testing using a query"
   ],
   "cell_type": "markdown",
   "metadata": {}
  },
  {
   "cell_type": "code",
   "execution_count": null,
   "metadata": {},
   "outputs": [],
   "source": [
    "#Test query with custom parameters to configure optimziations\n",
    "test_queries(open_web=True,use_zones=False,enable_query_relaxation=False)"
   ]
  },
  {
   "cell_type": "code",
   "execution_count": null,
   "metadata": {},
   "outputs": [],
   "source": [
    "#Test query showing all improvizations\n",
    "accumulator()"
   ]
  }
 ]
}