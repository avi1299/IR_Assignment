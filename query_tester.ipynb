{
 "cells": [
  {
   "cell_type": "code",
   "execution_count": 65,
   "metadata": {},
   "outputs": [],
   "source": [
    "import re\n",
    "import pickle\n",
    "import os\n",
    "import string\n",
    "from nltk.tokenize import word_tokenize\n",
    "from bs4 import BeautifulSoup\n",
    "import numpy as np\n",
    "import pandas as pd"
   ]
  },
  {
   "cell_type": "code",
   "execution_count": 66,
   "metadata": {},
   "outputs": [
    {
     "name": "stdout",
     "output_type": "stream",
     "text": [
      "Type the query: I think, I like branded stuff more exclusively than national security\n",
      "processed query i think  i like branded stuff more exclusively than national security\n"
     ]
    }
   ],
   "source": [
    "# Taking query input\n",
    "query = input(\"Type the query: \")\n",
    "# Preprocessing the query to remove punctuations\n",
    "query = query.lower()\n",
    "query=query.translate(str.maketrans(string.punctuation, ' '*len(string.punctuation)))\n",
    "query=query.translate(str.maketrans(\"‘’’–——−\",'       '))\n",
    "print(\"processed query\",query)"
   ]
  },
  {
   "cell_type": "code",
   "execution_count": 68,
   "metadata": {},
   "outputs": [
    {
     "data": {
      "text/plain": [
       "dict_items([(0, ['i', 'think', 'i', 'like', 'branded', 'stuff', 'more', 'exclusively', 'than', 'national', 'security'])])"
      ]
     },
     "execution_count": 68,
     "metadata": {},
     "output_type": "execute_result"
    }
   ],
   "source": [
    "# Tokenizing the query\n",
    "query_dict ={}\n",
    "query_words = []\n",
    "query_words = word_tokenize(query)\n",
    "query_words=list(set(words))\n",
    "# Setting index to 0\n",
    "query_dict[0]=word_tokenize(query) \n",
    "query_dict.items()"
   ]
  },
  {
   "cell_type": "code",
   "execution_count": 69,
   "metadata": {},
   "outputs": [
    {
     "data": {
      "text/html": [
       "<div>\n",
       "<style scoped>\n",
       "    .dataframe tbody tr th:only-of-type {\n",
       "        vertical-align: middle;\n",
       "    }\n",
       "\n",
       "    .dataframe tbody tr th {\n",
       "        vertical-align: top;\n",
       "    }\n",
       "\n",
       "    .dataframe thead th {\n",
       "        text-align: right;\n",
       "    }\n",
       "</style>\n",
       "<table border=\"1\" class=\"dataframe\">\n",
       "  <thead>\n",
       "    <tr style=\"text-align: right;\">\n",
       "      <th></th>\n",
       "      <th>η</th>\n",
       "      <th>branded</th>\n",
       "      <th>abaios</th>\n",
       "      <th>interhemispheric</th>\n",
       "      <th>£208</th>\n",
       "      <th>implementor</th>\n",
       "      <th>colonize</th>\n",
       "      <th>khymia</th>\n",
       "      <th>chymeia</th>\n",
       "      <th>overconnectivity</th>\n",
       "      <th>...</th>\n",
       "      <th>nouria</th>\n",
       "      <th>fontaine</th>\n",
       "      <th>expand</th>\n",
       "      <th>reinhold</th>\n",
       "      <th>daosheng</th>\n",
       "      <th>cadence</th>\n",
       "      <th>coercing</th>\n",
       "      <th>or</th>\n",
       "      <th>sculley</th>\n",
       "      <th>tickets</th>\n",
       "    </tr>\n",
       "  </thead>\n",
       "  <tbody>\n",
       "    <tr>\n",
       "      <th>0</th>\n",
       "      <td>0</td>\n",
       "      <td>0</td>\n",
       "      <td>0</td>\n",
       "      <td>0</td>\n",
       "      <td>0</td>\n",
       "      <td>0</td>\n",
       "      <td>0</td>\n",
       "      <td>0</td>\n",
       "      <td>0</td>\n",
       "      <td>0</td>\n",
       "      <td>...</td>\n",
       "      <td>0</td>\n",
       "      <td>0</td>\n",
       "      <td>0</td>\n",
       "      <td>0</td>\n",
       "      <td>0</td>\n",
       "      <td>0</td>\n",
       "      <td>0</td>\n",
       "      <td>0</td>\n",
       "      <td>0</td>\n",
       "      <td>0</td>\n",
       "    </tr>\n",
       "  </tbody>\n",
       "</table>\n",
       "<p>1 rows × 61903 columns</p>\n",
       "</div>"
      ],
      "text/plain": [
       "   η  branded  abaios  interhemispheric  £208  implementor  colonize  khymia  \\\n",
       "0  0        0       0                 0     0            0         0       0   \n",
       "\n",
       "   chymeia  overconnectivity  ...  nouria  fontaine  expand  reinhold  \\\n",
       "0        0                 0  ...       0         0       0         0   \n",
       "\n",
       "   daosheng  cadence  coercing  or  sculley  tickets  \n",
       "0         0        0         0   0        0        0  \n",
       "\n",
       "[1 rows x 61903 columns]"
      ]
     },
     "execution_count": 69,
     "metadata": {},
     "output_type": "execute_result"
    }
   ],
   "source": [
    "df = pd.read_pickle(r'./Storage/df.pkl')\n",
    "\n",
    "#Making a copy of the set of words dataframe\n",
    "buffer = df[1:2]\n",
    "buffer.values[:]=0\n",
    "# Indexing at 0\n",
    "buffer.index=['0']\n",
    "buffer"
   ]
  },
  {
   "cell_type": "code",
   "execution_count": 70,
   "metadata": {},
   "outputs": [
    {
     "name": "stderr",
     "output_type": "stream",
     "text": [
      "C:\\Users\\vc\\anaconda3\\lib\\site-packages\\ipykernel_launcher.py:4: SettingWithCopyWarning: \n",
      "A value is trying to be set on a copy of a slice from a DataFrame.\n",
      "Try using .loc[row_indexer,col_indexer] = value instead\n",
      "\n",
      "See the caveats in the documentation: https://pandas.pydata.org/pandas-docs/stable/user_guide/indexing.html#returning-a-view-versus-a-copy\n",
      "  after removing the cwd from sys.path.\n"
     ]
    },
    {
     "data": {
      "text/html": [
       "<div>\n",
       "<style scoped>\n",
       "    .dataframe tbody tr th:only-of-type {\n",
       "        vertical-align: middle;\n",
       "    }\n",
       "\n",
       "    .dataframe tbody tr th {\n",
       "        vertical-align: top;\n",
       "    }\n",
       "\n",
       "    .dataframe thead th {\n",
       "        text-align: right;\n",
       "    }\n",
       "</style>\n",
       "<table border=\"1\" class=\"dataframe\">\n",
       "  <thead>\n",
       "    <tr style=\"text-align: right;\">\n",
       "      <th></th>\n",
       "      <th>η</th>\n",
       "      <th>branded</th>\n",
       "      <th>abaios</th>\n",
       "      <th>interhemispheric</th>\n",
       "      <th>£208</th>\n",
       "      <th>implementor</th>\n",
       "      <th>colonize</th>\n",
       "      <th>khymia</th>\n",
       "      <th>chymeia</th>\n",
       "      <th>overconnectivity</th>\n",
       "      <th>...</th>\n",
       "      <th>nouria</th>\n",
       "      <th>fontaine</th>\n",
       "      <th>expand</th>\n",
       "      <th>reinhold</th>\n",
       "      <th>daosheng</th>\n",
       "      <th>cadence</th>\n",
       "      <th>coercing</th>\n",
       "      <th>or</th>\n",
       "      <th>sculley</th>\n",
       "      <th>tickets</th>\n",
       "    </tr>\n",
       "  </thead>\n",
       "  <tbody>\n",
       "    <tr>\n",
       "      <th>0</th>\n",
       "      <td>0</td>\n",
       "      <td>1</td>\n",
       "      <td>0</td>\n",
       "      <td>0</td>\n",
       "      <td>0</td>\n",
       "      <td>0</td>\n",
       "      <td>0</td>\n",
       "      <td>0</td>\n",
       "      <td>0</td>\n",
       "      <td>0</td>\n",
       "      <td>...</td>\n",
       "      <td>0</td>\n",
       "      <td>0</td>\n",
       "      <td>0</td>\n",
       "      <td>0</td>\n",
       "      <td>0</td>\n",
       "      <td>0</td>\n",
       "      <td>0</td>\n",
       "      <td>0</td>\n",
       "      <td>0</td>\n",
       "      <td>0</td>\n",
       "    </tr>\n",
       "  </tbody>\n",
       "</table>\n",
       "<p>1 rows × 61903 columns</p>\n",
       "</div>"
      ],
      "text/plain": [
       "   η  branded  abaios  interhemispheric  £208  implementor  colonize  khymia  \\\n",
       "0  0        1       0                 0     0            0         0       0   \n",
       "\n",
       "   chymeia  overconnectivity  ...  nouria  fontaine  expand  reinhold  \\\n",
       "0        0                 0  ...       0         0       0         0   \n",
       "\n",
       "   daosheng  cadence  coercing  or  sculley  tickets  \n",
       "0         0        0         0   0        0        0  \n",
       "\n",
       "[1 rows x 61903 columns]"
      ]
     },
     "execution_count": 70,
     "metadata": {},
     "output_type": "execute_result"
    }
   ],
   "source": [
    "# Populating the query term frequncy dataframe\n",
    "for doc_id,tokenstream in query_dict.items():\n",
    "    for token in tokenstream:\n",
    "        buffer[token]+=1\n",
    "\n",
    "\n",
    "buffer"
   ]
  },
  {
   "cell_type": "code",
   "execution_count": null,
   "metadata": {},
   "outputs": [],
   "source": []
  },
  {
   "cell_type": "code",
   "execution_count": 71,
   "metadata": {},
   "outputs": [],
   "source": [
    "vocab = pd.read_pickle(r'./Storage/words.pkl')\n",
    "doc_freq=pd.read_pickle(r'./Storage/doc_freq.pkl')"
   ]
  },
  {
   "cell_type": "code",
   "execution_count": null,
   "metadata": {},
   "outputs": [],
   "source": []
  },
  {
   "cell_type": "code",
   "execution_count": 72,
   "metadata": {},
   "outputs": [],
   "source": [
    "# Copying the document frequency dictionary and initializing with 0\n",
    "q_doc_freq = doc_freq.copy()\n",
    "for word in vocab:\n",
    "    q_doc_freq[word]=0"
   ]
  },
  {
   "cell_type": "code",
   "execution_count": null,
   "metadata": {},
   "outputs": [],
   "source": []
  },
  {
   "cell_type": "code",
   "execution_count": 73,
   "metadata": {},
   "outputs": [
    {
     "data": {
      "text/plain": [
       "1.8032619709666748"
      ]
     },
     "execution_count": 73,
     "metadata": {},
     "output_type": "execute_result"
    }
   ],
   "source": [
    "doc_freq['branded']"
   ]
  },
  {
   "cell_type": "code",
   "execution_count": 84,
   "metadata": {
    "scrolled": false
   },
   "outputs": [],
   "source": [
    "# Populating the query document frequncy dictionary for the words in the query\n",
    "for word in query_words:\n",
    "    q_doc_freq[word] = doc_freq[word]"
   ]
  },
  {
   "cell_type": "code",
   "execution_count": 75,
   "metadata": {},
   "outputs": [
    {
     "data": {
      "text/plain": [
       "1.8032619709666748"
      ]
     },
     "execution_count": 75,
     "metadata": {},
     "output_type": "execute_result"
    }
   ],
   "source": [
    "q_doc_freq['branded']"
   ]
  },
  {
   "cell_type": "code",
   "execution_count": 76,
   "metadata": {},
   "outputs": [
    {
     "name": "stderr",
     "output_type": "stream",
     "text": [
      "C:\\Users\\vc\\anaconda3\\lib\\site-packages\\ipykernel_launcher.py:3: RuntimeWarning: divide by zero encountered in log10\n",
      "  This is separate from the ipykernel package so we can avoid doing imports until\n",
      "C:\\Users\\vc\\anaconda3\\lib\\site-packages\\ipykernel_launcher.py:3: RuntimeWarning: invalid value encountered in multiply\n",
      "  This is separate from the ipykernel package so we can avoid doing imports until\n"
     ]
    },
    {
     "data": {
      "text/plain": [
       "array([[nan,  1., nan, ..., nan, nan, nan]])"
      ]
     },
     "execution_count": 76,
     "metadata": {},
     "output_type": "execute_result"
    }
   ],
   "source": [
    "# Vectorizing the query doc frequnecy and calcualting weights\n",
    "query_vec ={}\n",
    "query_vec=(1+np.log10(np.array(buffer.loc[:])))*list(q_doc_freq.values())\n",
    "query_vec[query_vec==-np.inf]=0\n",
    "query_vec=query_vec/(np.sqrt(sum(query_vec**2)))\n",
    "\n",
    "query_vec"
   ]
  },
  {
   "cell_type": "code",
   "execution_count": 77,
   "metadata": {},
   "outputs": [
    {
     "data": {
      "text/plain": [
       "array([[0., 1., 0., ..., 0., 0., 0.]])"
      ]
     },
     "execution_count": 77,
     "metadata": {},
     "output_type": "execute_result"
    }
   ],
   "source": [
    "# Convering NaN values to zero\n",
    "query_vec = np.nan_to_num(query_vec)\n",
    "query_vec"
   ]
  },
  {
   "cell_type": "code",
   "execution_count": null,
   "metadata": {},
   "outputs": [],
   "source": []
  },
  {
   "cell_type": "code",
   "execution_count": 78,
   "metadata": {},
   "outputs": [],
   "source": [
    "doc_vector = pd.read_pickle('./Storage/doc_vec.pkl')"
   ]
  },
  {
   "cell_type": "code",
   "execution_count": 85,
   "metadata": {},
   "outputs": [],
   "source": [
    "# Computing scores for the query vector corresponding to each document\n",
    "scores = {}\n",
    "for doc_id, sub_vector in doc_vector.items():\n",
    "    scores[doc_id] = np.sum(np.multiply(query_vec, sub_vector))\n",
    "#scores"
   ]
  },
  {
   "cell_type": "code",
   "execution_count": 80,
   "metadata": {},
   "outputs": [],
   "source": [
    "import operator"
   ]
  },
  {
   "cell_type": "code",
   "execution_count": 86,
   "metadata": {},
   "outputs": [],
   "source": [
    "# Sorting scores in descending order\n",
    "sorted_scores = dict(sorted(scores.items(), key= operator.itemgetter(1), reverse=True))\n",
    "#sorted_scores"
   ]
  },
  {
   "cell_type": "code",
   "execution_count": 82,
   "metadata": {},
   "outputs": [],
   "source": [
    "import itertools"
   ]
  },
  {
   "cell_type": "code",
   "execution_count": 83,
   "metadata": {},
   "outputs": [
    {
     "name": "stdout",
     "output_type": "stream",
     "text": [
      "1505\n",
      "1488\n",
      "864\n",
      "1183\n",
      "1241\n",
      "1202\n",
      "1074\n",
      "1306\n",
      "1397\n",
      "1023\n"
     ]
    }
   ],
   "source": [
    "# Returning the top 10 results \n",
    "return_docs = itertools.islice(sorted_scores.items(), 10)\n",
    "for k, v in return_docs:\n",
    "    print(k)"
   ]
  },
  {
   "cell_type": "code",
   "execution_count": null,
   "metadata": {},
   "outputs": [],
   "source": []
  }
 ],
 "metadata": {
  "kernelspec": {
   "display_name": "Python 3",
   "language": "python",
   "name": "python3"
  },
  "language_info": {
   "codemirror_mode": {
    "name": "ipython",
    "version": 3
   },
   "file_extension": ".py",
   "mimetype": "text/x-python",
   "name": "python",
   "nbconvert_exporter": "python",
   "pygments_lexer": "ipython3",
   "version": "3.7.7"
  }
 },
 "nbformat": 4,
 "nbformat_minor": 1
}
